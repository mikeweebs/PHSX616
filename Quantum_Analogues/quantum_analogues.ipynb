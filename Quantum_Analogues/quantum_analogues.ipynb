{
 "cells": [
  {
   "cell_type": "markdown",
   "id": "fc5a533e-a04e-4956-b456-83a2432c6b17",
   "metadata": {},
   "source": [
    "# Figures for Quantum Analogue Experiment"
   ]
  },
  {
   "cell_type": "code",
   "execution_count": 2,
   "id": "a1d529a1-15b3-41cf-81bd-598d250a9c02",
   "metadata": {},
   "outputs": [],
   "source": [
    "import numpy as np\n",
    "import matplotlib\n",
    "import matplotlib.pyplot as plt\n",
    "from csv import reader"
   ]
  },
  {
   "cell_type": "markdown",
   "id": "dcb804aa-ae25-4264-9512-a1a2472dea63",
   "metadata": {},
   "source": [
    "## Data loading and processing"
   ]
  },
  {
   "cell_type": "code",
   "execution_count": 23,
   "id": "929952ea-31d7-4f50-8983-9ff45dcbcb7c",
   "metadata": {},
   "outputs": [],
   "source": [
    "f1 = 'CH1offres.CSV'\n",
    "f2 = 'CH2offres.CSV'\n",
    "\n",
    "data = []\n",
    "\n",
    "with open(f1) as f1:\n",
    "    csv = reader(f1)\n",
    "    for i,row in enumerate(csv):\n",
    "        data.append(row)\n",
    "\n",
    "data = np.array(data)\n",
    "ch1offtime = data[:,3].astype('float')\n",
    "ch1offfreq = data[:,4].astype('float')\n",
    "\n",
    "data = []\n",
    "\n",
    "with open(f2) as f2:\n",
    "    csv = reader(f2)\n",
    "    for i,row in enumerate(csv):\n",
    "        data.append(row)\n",
    "\n",
    "data = np.array(data)\n",
    "ch2offtime = data[:,3].astype('float')\n",
    "ch2offfreq = data[:,4].astype('float')\n",
    "\n",
    "f1 = 'CH1res.CSV'\n",
    "f2 = 'CH2res.CSV'\n",
    "\n",
    "data = []\n",
    "\n",
    "with open(f1) as f1:\n",
    "    csv = reader(f1)\n",
    "    for i,row in enumerate(csv):\n",
    "        data.append(row)\n",
    "\n",
    "data = np.array(data)\n",
    "ch1restime = data[:,3].astype('float')\n",
    "ch1resfreq = data[:,4].astype('float')\n",
    "\n",
    "data = []\n",
    "\n",
    "with open(f2) as f2:\n",
    "    csv = reader(f2)\n",
    "    for i,row in enumerate(csv):\n",
    "        data.append(row)\n",
    "\n",
    "data = np.array(data)\n",
    "ch2restime = data[:,3].astype('float')\n",
    "ch2resfreq = data[:,4].astype('float')\n",
    "\n",
    "f = 'Lorentzian.csv'\n",
    "\n",
    "data = []\n",
    "\n",
    "with open(f) as f:\n",
    "    csv = reader(f)\n",
    "    for i,row in enumerate(csv):\n",
    "        if i != 0:\n",
    "            data.append(row)\n",
    "\n",
    "data = np.array(data)\n",
    "\n",
    "lorentx = data[:,0].astype('float')\n",
    "lorenty = data[:,1].astype('float')"
   ]
  },
  {
   "cell_type": "code",
   "execution_count": null,
   "id": "264fd0d9-252f-4bc9-8804-56bcf0639281",
   "metadata": {},
   "outputs": [],
   "source": []
  }
 ],
 "metadata": {
  "kernelspec": {
   "display_name": "Python 3 (ipykernel)",
   "language": "python",
   "name": "python3"
  },
  "language_info": {
   "codemirror_mode": {
    "name": "ipython",
    "version": 3
   },
   "file_extension": ".py",
   "mimetype": "text/x-python",
   "name": "python",
   "nbconvert_exporter": "python",
   "pygments_lexer": "ipython3",
   "version": "3.10.12"
  }
 },
 "nbformat": 4,
 "nbformat_minor": 5
}
